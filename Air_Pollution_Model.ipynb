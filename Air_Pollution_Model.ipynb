{
  "nbformat": 4,
  "nbformat_minor": 0,
  "metadata": {
    "colab": {
      "provenance": [],
      "authorship_tag": "ABX9TyMgWwcnAPdb0654/TyAupFT",
      "include_colab_link": true
    },
    "kernelspec": {
      "name": "python3",
      "display_name": "Python 3"
    },
    "language_info": {
      "name": "python"
    }
  },
  "cells": [
    {
      "cell_type": "markdown",
      "metadata": {
        "id": "view-in-github",
        "colab_type": "text"
      },
      "source": [
        "<a href=\"https://colab.research.google.com/github/maggiedart16/Earth-and-Environmental-Systems-Modeling/blob/main/Air_Pollution_Model.ipynb\" target=\"_parent\"><img src=\"https://colab.research.google.com/assets/colab-badge.svg\" alt=\"Open In Colab\"/></a>"
      ]
    },
    {
      "cell_type": "code",
      "execution_count": null,
      "metadata": {
        "id": "abdBwmSwrO9b"
      },
      "outputs": [],
      "source": [
        "import pandas as pd\n",
        "from sklearn.model_selection import train_test_split\n",
        "from sklearn.linear_model import LinearRegression\n",
        "from sklearn.metrics import mean_squared_error\n",
        "\n",
        "# Load your air pollution dataset\n",
        "data = pd.read_csv(\"air_pollution_data.csv\")\n",
        "\n",
        "# Define features and target variable\n",
        "features = [\"temperature\", \"humidity\", \"wind_speed\"]\n",
        "target = \"PM2.5\"\n",
        "\n",
        "# Split data into training and testing sets\n",
        "X_train, X_test, y_train, y_test = train_test_split(data[features], data[target], test_size=0.2, random_state=42)\n",
        "\n",
        "# Create a linear regression model\n",
        "model = LinearRegression()\n",
        "\n",
        "# Fit the model to the training data\n",
        "model.fit(X_train, y_train)\n",
        "\n",
        "# Make predictions on the test data\n",
        "y_pred = model.predict(X_test)\n",
        "\n",
        "# Evaluate the model\n",
        "mse = mean_squared_error(y_test, y_pred)\n",
        "print(\"Mean Squared Error:\", mse)"
      ]
    },
    {
      "cell_type": "markdown",
      "source": [
        "Maggie Dart\n",
        "\n",
        "Air Pollution Modeling\n",
        "\n",
        "Earth and Environment Systems Modeling Fall 24\n",
        "\n",
        "**1. Introduction**\n",
        "Air pollution is one of the most important environmental problems facing both urban and rural areas face today. Part of the fine particulate matter, usually referred to as PM2.5, presents one of the most threatening factors. The diameter of its particles is less than 2.5 micrometers. Long-term exposure at a high levelsof PM2.5 has been considerably associated with respiratory diseases and cardiovascular problems, often caused by premature death. According to the World Health Organization, air pollution is responsible for more than 4 million deaths annually, while millions more fall ill due to poor air quality [1]. The major contributors to PM2.5 include combustion processes, such as emissions from vehicles, industrial activity, and heating in residences. These particles are also transported over long distances by wind to affect areas far away from their source.\n",
        "Given the severity of health and environmental impacts due to air pollution, the prediction of PM2.5 concentration becomes important for mitigation. The environmental factor-based predictive models of temperature, humidity, and wind speed offer some insight of forecasting air quality. Whereas temperature will affect how quickly pollutants disperse, humidity affects conditions in the atmosphere, leading to a settlement of the particles, and wind speed, on the other hand, either carries them or scatters them away.\n",
        "Based on such environmental factors, this paper develops a linear regression model for the prediction of PM2.5 concentrations. Linear regression is probably one of the simplest and hence most common models in environmental science due to its simplicity in both implementation and interpretation. It may not be able to capture all the intricacies of atmospheric dynamics, but surely it gives an excellent starting point toward understanding the relationships between environmental conditions and pollution levels.\n",
        "This project applies linear regression to the prediction of levels of PM2.5 in an attempt to derive actionable insights for air quality monitoring and public health efforts. We further seek to explore the predictive capability of environmental variables like temperature, humidity, and wind speed on PM2.5 levels while laying a foundation for future improvement of modeling using more sophisticated techniques.\n",
        "\n",
        "**2. Model Description**\n",
        "The model chosen is a linear regression model, which is one of the important tools used in statistical modeling and machine learning. Linear regression is a way to model the relationship between a dependent variable and one or more independent variables; in this case, though, the dependent variable—concentration of PM2.5—on the independent environmental factors such as temperature, humidity, and wind speed is modeled.\n",
        "In the most basic linear regression, a linear relationship between the dependent and independent variables is assumed. The general form of a multiple linear regression model is:\n",
        "PM2.5 = β0 ​+ β1 ​⋅ temperature + β2 ​⋅ humidity + β3 ​⋅ wind speed + ϵ\n",
        "Where:\n",
        "PM2.5 refers to the particulate matter concentration of.\n",
        "β0​ is the intercept term,\n",
        "β1, β2, β3 are the regression coefficients, which represent the relationship of each independent variable (temperature, humidity, wind speed) to the dependent variable (PM2.5).\n",
        "ϵ represents the error term, capturing variations not explained by the model.\n",
        "The above coefficients β1, β2, β3​ have to be estimated from data. The model learns in training how each environmental variable contributes to PM2.5. For example, β1​ is increased to every unit of temperature at which the PM2.5 varies, assuming always constant humidity and wind speed.\n",
        "One of the strengths of linear regression is interpretability [2]. Each coefficient gives insight into how much and in which direction each feature influences PM2.5 levels. However, that same simplicity means it may not capture more complex relationships or interactions between variables, which could be important in certain contexts. Nonetheless, it is one of the common tools used in environmental science to make predictions and understand trends.\n",
        "\n",
        "  **2.1 Earlier Applications:** The applications of linear regression models have been realized in a really large number of environmental science studies, such as EPA using similar models in order to make predictions about the quality of air over urban areas by inputting the relevant meteorological data. Other studies have also reported the predicting capacity of the same kinds of models but for concentration prediction of PM2.5 [3].\n",
        "It will prove to be a really good model to first probe, especially for most preliminary and exploratory analyses, if one is dealing with limited data in a region or desires a simple understanding of the environmental covariates.\n",
        "This also forms the very important base for the investigation of other, more advanced predictive methods, including machine learning models such as random forests or support vector machines, which might yield even better predictions through modeling non-linear relationships and interactions between features.\n",
        "\n",
        "**3. Data Requirements**\n",
        "The features needed for the model are the environmental features and a target variable: the concentration of PM2.5. All features are related to the meteorological variables known to impact air quality, including temperature, humidity, and wind speed. The target variable is PM2.5 concentration, one of the major markers of air pollution and health risk. Accurate PM2.5 prediction can facilitate the creation of air quality forecasts and policies to combat pollution.\n",
        "\n",
        "  **3.1 Input Variables**\n",
        "Temperature: This is one of the important factors that determine the rate of accumulation and dispersion of pollutants. At higher temperatures, more pollutants will be evaporated, while greater instability in the atmosphere lowers the concentration of PM2.5.\n",
        "Humidity: It can influence the nucleation and persistence of particulate matter in the atmosphere. At high levels of humidity, particulates are collected that, though easily measured, behave differently in the atmosphere.\n",
        "Wind Speed: Wind speed is among the most important factors for pollutant dispersion. The higher the wind speed, the more the pollutants are dispersed over a wider area, thus reducing the local concentration of PM2.5.\n",
        "\n",
        "  **3.2 Output Variable:**\n",
        "PM2.5 concentration: typically measured in micrograms per cubic meter (μg/m³), which is the main target variable to be forecasted, as it directly impacts public health and environmental safety.\n",
        "Data Sources: The input data on environmental variables, in most instances, emanates from the local weather stations or viewable satellite-based observations. The EPA or the World Air Quality Index [4] can become sources of historical data on weather and air quality. The data is provided in CSV format or through an interactive map, where the readings, on an hourly or even daily basis, include temperature, humidity, wind speed, and air quality measurements.\n",
        "Data Format: The data will be in a table format, where each row represents one observation at one instant in time. The columns will include temperature (°C), humidity (%), wind speed (m/s), and PM2.5 concentration (µg/m³). It may also contain other variables, such as atmospheric pressure or geographical coordinates, which may come in handy for regional analyses. This dataset can then be uploaded into the model for observable data reporting.\n",
        "This model can be trained efficiently once the data is cleaned and preprocessed—handling missing values, normalizing variables where appropriate.\n",
        "\n",
        "**4. Calibration**\n",
        "Calibration in the linear regression model involves estimation of the coefficients of the regression, β₀, β₁, β₂, β₃, so as to attempt to define the link between environmental factors and concentrations of PM2.5. Calibration of a model is essentially training of the model on historical data for which the values of independent and dependent variables are known. The training learns the best coefficients with respect to minimum prediction error.\n",
        "The model fits the coefficient estimates for β₀, β₁, β₂, β₃ by the method of minimizing the residual sum of squares between the predicted and actual PM2.5 values. The methods used to estimate these may include Ordinary Least Squares. After fitting the model, its performance is evaluated based on the test set using some metrics that give an idea of how well the target variable is being predicted. This could be Mean Squared Error or R-squared. Apart from this, calibration may also involve honing the model to better capture the existing observations. This may be effected through cross-referencing the output from the model with actual data from air quality monitoring stations. In case disparities exist, then a few adjustments can be made in order to regularize the practices in use or consideration of some other features.\n",
        "\n",
        "**5. Design of Numerical Experiments**\n",
        "The paper aims to suggest a numerical experiment to carry out an in-depth analysis of the relationship existing between wind speed and PM2.5 particulate matter concentrations within the air. From our hypothesis, with an increase in the wind speed, a decrease is expected in the concentration level of PM2.5 particles within the atmosphere.\n",
        "We attribute the results we expect to the fact that a high-speed wind has a better chance of spreading out the pollutants to cover a large area so that the density is minimized in any given space. We will be using this range of 0-10 meters per second as wind speed varying systematically while controlling the experiment for temperature and humidity at average levels.\n",
        "These variables shall then be used by the model in predicting PM2.5 levels, a very important constituent of any air quality measurement, while further detailed analysis is put into effect to discover to what extent or degree that wind speed impacts the magnitude of concentration of PM2.5 particles in the atmosphere.\n",
        "Numerical experiments are designed to validate the hypothesis that wind speed will have a negative relation with PM2.5, meaning that with the increase in speed, the concentration of the latter will be reduced due to the promotion of pollutant dispersion. The design of the experiment is as follows:\n",
        "\n",
        "\n",
        "  **5.1 Experimental Setup:**\n",
        "  We will vary the wind speed within a range from 0 to 10 m/s, while keeping temperature and humidity constant at their average values—for example, 20°C for temperature and 50% for humidity. This will enable us to isolate the effect of wind speed on PM2.5. The model will then predict PM2.5 concentrations based on these varied wind speeds. Justification:\n",
        "  The following experiment will act to show how wind speed is instrumental in the realization of the levels of PM2.5 and hence is important in the understanding of air quality dynamics. If wind speed were an important factor, it would lend itself to policy recommendations such as optimal placement of monitoring stations or accounting for wind patterns within pollution control strategies.\n",
        "\n",
        "  **5.2 Data Analysis:**\n",
        "  The results will be analyzed by plotting PM2.5 concentrations against wind speed. A negative correlation would support the hypothesis, while no correlation would suggest that other factors like temperature or humidity may have a stronger influence on PM2.5 levels.\n",
        "\n",
        "  **5.3 Restrictions:**\n",
        "  While this is an isolation of wind speed, real-world air pollution is influenced by many things at once. Future experiments could involve multiple interacting variables or even nonlinear models to capture relationships that are more complex.\n",
        "\n",
        "\n",
        "**References:**\n",
        "\n",
        "Ambient (Outdoor) Air Pollution, World Health Organization. 24 October 2024. https://www.who.int/news-room/fact-sheets/detail/ambient-(outdoor)-air-quality-and-health#:~:text=Ambient%20(outdoor)%20air%20pollution%20in,key%20to%20protecting%20public%20health.\n",
        "\n",
        "Molnar, C. (2022). Interpretable Machine Learning: A Guide for Making Black Box Models Explainable (2nd ed.). christophm.github.io/interpretable-ml-book/\n",
        "\n",
        "Air Quality Modeling. EPA. https://www.epa.gov/air-research/air-quality-modeling\n",
        "\n",
        "World’s Air Quality Index. https://waqi.info/#/c/4.102/8.008/2.2z\n",
        "\n",
        "\n",
        "\n"
      ],
      "metadata": {
        "id": "bN_ToPNReoT-"
      }
    }
  ]
}